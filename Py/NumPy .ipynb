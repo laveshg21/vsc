{
 "cells": [
  {
   "cell_type": "markdown",
   "id": "3bc88949",
   "metadata": {},
   "source": [
    "# Why NumPy?"
   ]
  },
  {
   "cell_type": "markdown",
   "id": "1806ea4e",
   "metadata": {},
   "source": [
    "NumPy provides efficient storage. It is fast adn provides better ways of handling and processing datas. It is easy to use and requires less memory to store data."
   ]
  },
  {
   "cell_type": "code",
   "execution_count": null,
   "id": "70ce1405",
   "metadata": {},
   "outputs": [],
   "source": []
  }
 ],
 "metadata": {
  "kernelspec": {
   "display_name": "Python 3 (ipykernel)",
   "language": "python",
   "name": "python3"
  },
  "language_info": {
   "codemirror_mode": {
    "name": "ipython",
    "version": 3
   },
   "file_extension": ".py",
   "mimetype": "text/x-python",
   "name": "python",
   "nbconvert_exporter": "python",
   "pygments_lexer": "ipython3",
   "version": "3.7.3"
  }
 },
 "nbformat": 4,
 "nbformat_minor": 5
}
